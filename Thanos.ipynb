{
 "cells": [
  {
   "cell_type": "code",
   "execution_count": 4,
   "metadata": {},
   "outputs": [],
   "source": [
    "import os\n",
    "def people(folder_name):\n",
    "    return os.listdir(f'{folder_name}')"
   ]
  },
  {
   "cell_type": "code",
   "execution_count": 5,
   "metadata": {},
   "outputs": [],
   "source": [
    "import shutil\n",
    "def Rebuild():\n",
    "    for image in people('backup'):\n",
    "        original = f'backup/{image}'\n",
    "        target = f'universe/{image}'\n",
    "        shutil.copyfile(original, target)\n",
    "        print(f'Copied image : {image}')\n",
    "        time.sleep(2)\n",
    "    print('backup done')"
   ]
  },
  {
   "cell_type": "code",
   "execution_count": 30,
   "metadata": {},
   "outputs": [],
   "source": [
    "import os\n",
    "import random\n",
    "import time\n",
    "def Kill():\n",
    "    list_of_ppl=people('universe')\n",
    "    if len(list_of_ppl) >= 2:\n",
    "        for i in range(len(list_of_ppl)//2):\n",
    "            victim=list_of_ppl[random.randrange(len(list_of_ppl))]\n",
    "            os.remove(f'universe/{victim}')\n",
    "            print(f'done kill {victim}')\n",
    "            list_of_ppl.remove(victim)\n",
    "            time.sleep(2)\n",
    "        print('oops, Thanos SNAPPED his finger')\n",
    "    elif len(list_of_ppl)==0:\n",
    "        print('Rebuilding the world')\n",
    "        Rebuild()\n",
    "    else:\n",
    "        os.remove(f'universe/{list_of_ppl[0]}')\n",
    "        print(f'done kill {list_of_ppl[0]}')\n",
    "        time.sleep(2)\n",
    "        list_of_ppl.remove(victim)\n",
    "        print('oops, Thanos SNAPPED his finger')"
   ]
  },
  {
   "cell_type": "code",
   "execution_count": 31,
   "metadata": {},
   "outputs": [
    {
     "name": "stdout",
     "output_type": "stream",
     "text": [
      "Rebuilding the world\n",
      "Copied image : cover001.png\n",
      "Copied image : cover002.png\n",
      "Copied image : cover003.png\n",
      "Copied image : cover004.png\n",
      "Copied image : cover005.png\n",
      "Copied image : cover006.png\n",
      "Copied image : cover007.png\n",
      "Copied image : cover008.png\n",
      "Copied image : cover009.png\n",
      "Copied image : cover010.png\n",
      "Copied image : cover011.png\n",
      "Copied image : cover012.png\n",
      "Copied image : cover013.png\n",
      "Copied image : cover014.png\n",
      "Copied image : cover015.png\n",
      "Copied image : cover016.png\n",
      "Copied image : cover017.png\n",
      "Copied image : cover018.png\n",
      "Copied image : cover019.png\n",
      "Copied image : cover020.png\n",
      "Copied image : cover021.png\n",
      "Copied image : cover022.png\n",
      "Copied image : cover023.png\n",
      "Copied image : cover024.png\n",
      "Copied image : cover025.png\n",
      "Copied image : cover026.png\n",
      "Copied image : cover027.png\n",
      "Copied image : cover028.png\n",
      "Copied image : cover029.png\n",
      "Copied image : cover030.png\n",
      "Copied image : cover031.png\n",
      "Copied image : cover032.png\n",
      "Copied image : cover033.png\n",
      "Copied image : cover034.png\n",
      "Copied image : cover035.png\n",
      "Copied image : cover036.png\n",
      "Copied image : cover037.png\n",
      "Copied image : cover038.png\n",
      "Copied image : cover039.png\n",
      "Copied image : cover040.png\n",
      "Copied image : cover041.png\n",
      "Copied image : cover042.png\n",
      "Copied image : cover043.png\n",
      "Copied image : cover044.png\n",
      "Copied image : cover045.png\n",
      "Copied image : cover046.png\n",
      "Copied image : cover047.png\n",
      "Copied image : cover048.png\n",
      "Copied image : cover049.png\n",
      "Copied image : cover050.png\n",
      "backup done\n"
     ]
    }
   ],
   "source": [
    "Kill()"
   ]
  },
  {
   "cell_type": "code",
   "execution_count": null,
   "metadata": {},
   "outputs": [],
   "source": []
  }
 ],
 "metadata": {
  "kernelspec": {
   "display_name": "Python 3",
   "language": "python",
   "name": "python3"
  },
  "language_info": {
   "codemirror_mode": {
    "name": "ipython",
    "version": 3
   },
   "file_extension": ".py",
   "mimetype": "text/x-python",
   "name": "python",
   "nbconvert_exporter": "python",
   "pygments_lexer": "ipython3",
   "version": "3.7.6"
  }
 },
 "nbformat": 4,
 "nbformat_minor": 4
}
